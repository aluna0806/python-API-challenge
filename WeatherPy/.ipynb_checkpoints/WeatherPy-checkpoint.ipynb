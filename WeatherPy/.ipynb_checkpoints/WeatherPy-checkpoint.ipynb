{
 "cells": [
  {
   "cell_type": "markdown",
   "metadata": {},
   "source": [
    "# WeatherPy\n",
    "----\n",
    "\n",
    "#### Note\n",
    "* Instructions have been included for each segment. You do not have to follow them exactly, but they are included to help you think through the steps."
   ]
  },
  {
   "cell_type": "code",
   "execution_count": 27,
   "metadata": {
    "scrolled": true
   },
   "outputs": [],
   "source": [
    "# Dependencies and Setup\n",
    "import matplotlib.pyplot as plt\n",
    "import pandas as pd\n",
    "import numpy as np\n",
    "import requests\n",
    "\n",
    "from datetime import datetime\n",
    "from scipy.stats import linregress\n",
    "\n",
    "# Import API key\n",
    "from api_keys import weather_api_key\n",
    "\n",
    "# Incorporated citipy to determine city based on latitude and longitude\n",
    "from citipy import citipy\n",
    "\n",
    "# Output File (CSV)\n",
    "output_data_file = \"output_data/cities.csv\"\n",
    "\n",
    "# Range of latitudes and longitudes\n",
    "lat_range = (-90, 90)\n",
    "lng_range = (-180, 180)"
   ]
  },
  {
   "cell_type": "markdown",
   "metadata": {},
   "source": [
    "## Generate Cities List"
   ]
  },
  {
   "cell_type": "code",
   "execution_count": 2,
   "metadata": {},
   "outputs": [
    {
     "data": {
      "text/plain": [
       "590"
      ]
     },
     "execution_count": 2,
     "metadata": {},
     "output_type": "execute_result"
    }
   ],
   "source": [
    "# List for holding lat_lngs and cities\n",
    "lat_lngs = []\n",
    "cities = []\n",
    "\n",
    "# Create a set of random lat and lng combinations\n",
    "lats = np.random.uniform(lat_range[0], lat_range[1], size=1500)\n",
    "lngs = np.random.uniform(lng_range[0], lng_range[1], size=1500)\n",
    "lat_lngs = zip(lats, lngs)\n",
    "\n",
    "# Identify nearest city for each lat, lng combination\n",
    "for lat_lng in lat_lngs:\n",
    "    city = citipy.nearest_city(lat_lng[0], lat_lng[1]).city_name\n",
    "    \n",
    "    # If the city is unique, then add it to a our cities list\n",
    "    if city not in cities:\n",
    "        cities.append(city)\n",
    "\n",
    "# Print the city count to confirm sufficient count\n",
    "len(cities)"
   ]
  },
  {
   "cell_type": "markdown",
   "metadata": {},
   "source": [
    "### Perform API Calls\n",
    "* Perform a weather check on each city using a series of successive API calls.\n",
    "* Include a print log of each city as it'sbeing processed (with the city number and city name).\n"
   ]
  },
  {
   "cell_type": "code",
   "execution_count": 3,
   "metadata": {},
   "outputs": [],
   "source": [
    "#url from https://openweathermap.org/appid\n",
    "url = \"http://api.openweathermap.org/data/2.5/weather?\"\n",
    "unit = \"imperial\"\n",
    "query_url = f\"{url}&appid={weather_api_key}&units={unit}&q=\""
   ]
  },
  {
   "cell_type": "code",
   "execution_count": 6,
   "metadata": {},
   "outputs": [
    {
     "name": "stdout",
     "output_type": "stream",
     "text": [
      "City Identified punta arenas\n",
      "City Identified divnogorsk\n",
      "City Identified hermanus\n",
      "City Identified kapaa\n",
      "City Identified zhicheng\n",
      "City Identified oakdale\n",
      "City Identified bubaque\n",
      "City Identified fallon\n",
      "City NOT Found nizhneyansk\n",
      "City Identified atuona\n",
      "City Identified port augusta\n",
      "City Identified alberton\n",
      "City Identified pringsewu\n",
      "City Identified castro\n",
      "City Identified hithadhoo\n",
      "City Identified anadyr\n",
      "City NOT Found taolanaro\n",
      "City Identified mar del plata\n",
      "City Identified busselton\n",
      "City Identified faanui\n",
      "City Identified tasiilaq\n",
      "City Identified tiksi\n",
      "City Identified mumford\n",
      "City Identified saint-pierre\n",
      "City Identified coquimbo\n",
      "City Identified yeppoon\n",
      "City Identified puerto ayora\n",
      "City Identified cidreira\n",
      "City Identified vestmannaeyjar\n",
      "City Identified dongkan\n",
      "City Identified mataura\n",
      "City Identified vaini\n",
      "City Identified namibe\n",
      "City Identified bukachacha\n",
      "City Identified kodiak\n",
      "City NOT Found illoqqortoormiut\n",
      "City Identified bardiyah\n",
      "City Identified rikitea\n",
      "City Identified ugoofaaru\n",
      "City Identified saint george\n",
      "City Identified fairview\n",
      "City Identified avarua\n",
      "City Identified georgetown\n",
      "City Identified bonavista\n",
      "City Identified sao joao da barra\n",
      "City Identified halifax\n",
      "City Identified port elizabeth\n",
      "City Identified narsaq\n",
      "City Identified changqing\n",
      "City Identified dingli\n",
      "City Identified gisborne\n",
      "City Identified port alfred\n",
      "City Identified lagoa\n",
      "City Identified ushuaia\n",
      "City Identified isangel\n",
      "City NOT Found pousat\n",
      "City Identified paamiut\n",
      "City Identified sattenapalle\n",
      "City Identified ca mau\n",
      "City Identified vila franca do campo\n",
      "City Identified taoudenni\n",
      "City Identified nikolskoye\n",
      "City Identified airai\n",
      "City Identified bredasdorp\n",
      "City Identified yellowknife\n",
      "City Identified teahupoo\n",
      "City Identified caiaponia\n",
      "City Identified santander\n",
      "City Identified bengkulu\n",
      "City Identified butaritari\n",
      "City Identified albany\n",
      "City Identified carnarvon\n",
      "City Identified new norfolk\n",
      "City NOT Found amderma\n",
      "City Identified tuktoyaktuk\n",
      "City Identified haines junction\n",
      "City Identified lebu\n",
      "City Identified dikson\n",
      "City Identified george\n",
      "City Identified homer\n",
      "City Identified margate\n",
      "City Identified ryazan\n",
      "City Identified berlevag\n",
      "City Identified kargopol\n",
      "City Identified barrow\n",
      "City Identified moron\n",
      "City Identified dukat\n",
      "City Identified castlemaine\n",
      "City Identified zhigansk\n",
      "City Identified upernavik\n",
      "City Identified killybegs\n",
      "City Identified cherskiy\n",
      "City Identified mahebourg\n",
      "City Identified port hedland\n",
      "City Identified westport\n",
      "City NOT Found mys shmidta\n",
      "City Identified iqaluit\n",
      "City Identified ponta do sol\n",
      "City Identified mabay\n",
      "City NOT Found abu jubayhah\n",
      "City Identified kisesa\n",
      "City Identified port hardy\n",
      "City Identified sao miguel do araguaia\n",
      "City Identified qasigiannguit\n",
      "City Identified qaanaaq\n",
      "City Identified saint-joseph\n",
      "City Identified khatanga\n",
      "City Identified mogok\n",
      "City Identified codrington\n",
      "City Identified sur\n",
      "City Identified atar\n",
      "City Identified mount gambier\n",
      "City NOT Found umzimvubu\n",
      "City Identified tuatapere\n",
      "City NOT Found cazaje\n",
      "City Identified camacha\n",
      "City Identified touros\n",
      "City NOT Found belushya guba\n",
      "City Identified goianesia\n",
      "City Identified bethel\n",
      "City Identified kirakira\n",
      "City Identified atbasar\n",
      "City Identified hailar\n",
      "City Identified palencia\n",
      "City Identified paramonga\n",
      "City Identified axim\n",
      "City Identified riyadh\n",
      "City Identified palmer\n",
      "City Identified karasjok\n",
      "City Identified tyukhtet\n",
      "City NOT Found marcona\n",
      "City Identified jamestown\n",
      "City Identified hearst\n",
      "City Identified komsomolskiy\n",
      "City Identified lorengau\n",
      "City Identified padang\n",
      "City NOT Found bajo baudo\n",
      "City Identified hobart\n",
      "City Identified san patricio\n",
      "City Identified meulaboh\n",
      "City NOT Found yialos\n",
      "City Identified sao borja\n",
      "City Identified sakakah\n",
      "City Identified riberalta\n",
      "City Identified abong mbang\n",
      "City Identified jipijapa\n",
      "City Identified juneau\n",
      "City Identified corinto\n",
      "City Identified evensk\n",
      "City Identified sao filipe\n",
      "City Identified cape town\n",
      "City Identified longyearbyen\n",
      "City Identified cermik\n",
      "City Identified brokopondo\n",
      "City Identified dunmore town\n",
      "City Identified pombas\n",
      "City Identified gaoual\n",
      "City Identified port lincoln\n",
      "City Identified kalmunai\n",
      "City Identified campbell river\n",
      "City Identified saskylakh\n",
      "City Identified kieta\n",
      "City NOT Found ayer itam\n",
      "City Identified omsukchan\n",
      "City Identified mount pleasant\n",
      "City Identified conde\n",
      "City Identified san quintin\n",
      "City Identified pevek\n",
      "City Identified porbandar\n",
      "City Identified yar-sale\n",
      "City Identified grindavik\n",
      "City Identified richards bay\n",
      "City Identified avera\n",
      "City Identified ajaccio\n",
      "City Identified solnechnyy\n",
      "City NOT Found saleaula\n",
      "City Identified chuy\n",
      "City Identified garden city\n",
      "City NOT Found temaraia\n",
      "City Identified churapcha\n",
      "City Identified torbay\n",
      "City Identified cabo san lucas\n",
      "City Identified olafsvik\n",
      "City Identified pekin\n",
      "City Identified bilibino\n",
      "City NOT Found berdyuzhye\n",
      "City Identified provideniya\n",
      "City Identified la rioja\n",
      "City Identified kaitangata\n",
      "City Identified brae\n",
      "City Identified deder\n",
      "City Identified lata\n",
      "City Identified bluff\n",
      "City NOT Found toliary\n",
      "City Identified rio branco\n",
      "City NOT Found hvammstangi\n",
      "City Identified coos bay\n",
      "City Identified samoded\n",
      "City Identified slave lake\n",
      "City Identified lukovetskiy\n",
      "City Identified husavik\n",
      "City Identified mogadishu\n",
      "City Identified kondoa\n",
      "City Identified thompson\n",
      "City Identified port blair\n",
      "City Identified manuk mangkaw\n",
      "City Identified kruisfontein\n",
      "City Identified isiolo\n",
      "City Identified nenjiang\n",
      "City Identified sungai petani\n",
      "City Identified skhisma\n",
      "City Identified paita\n",
      "City Identified nanortalik\n",
      "City Identified egvekinot\n",
      "City Identified asau\n",
      "City Identified goregaon\n",
      "City Identified mabaruma\n",
      "City Identified nosy varika\n",
      "City Identified srednekolymsk\n",
      "City Identified shitanjing\n",
      "City Identified mountain home\n",
      "City Identified dillon\n",
      "City Identified maple creek\n",
      "City Identified victoria\n",
      "City Identified east london\n",
      "City Identified iracoubo\n",
      "City Identified oussouye\n",
      "City Identified vigia\n",
      "City Identified bermeo\n",
      "City Identified woodstock\n",
      "City Identified sabang\n",
      "City Identified smolenka\n",
      "City Identified burnie\n",
      "City Identified hilo\n",
      "City Identified severo-kurilsk\n",
      "City Identified mayumba\n",
      "City Identified waterbury\n",
      "City Identified kavieng\n",
      "City Identified luderitz\n",
      "City Identified walvis bay\n",
      "City Identified lebanon\n",
      "City Identified mae chan\n",
      "City Identified stendal\n",
      "City Identified angermunde\n",
      "City Identified katsuura\n",
      "City Identified tatarsk\n",
      "City Identified kifri\n",
      "City Identified comodoro rivadavia\n",
      "City Identified chokurdakh\n",
      "City NOT Found inderborskiy\n",
      "City Identified adrar\n",
      "City Identified sao gabriel da cachoeira\n",
      "City Identified esso\n",
      "City Identified vyazma\n",
      "City NOT Found kamenskoye\n",
      "City Identified port lavaca\n",
      "City Identified storforshei\n",
      "City Identified baghmara\n",
      "City Identified esperance\n",
      "City Identified nadym\n",
      "City Identified inverell\n",
      "City Identified tagusao\n",
      "City Identified saint-philippe\n",
      "City Identified hervey bay\n",
      "City Identified hualmay\n",
      "City Identified pisco\n",
      "City Identified bathsheba\n",
      "City Identified sinnamary\n",
      "City NOT Found attawapiskat\n",
      "City Identified manyana\n",
      "City Identified kamenka\n",
      "City Identified menongue\n",
      "City Identified buala\n",
      "City NOT Found barentsburg\n",
      "City Identified vardo\n",
      "City Identified luancheng\n",
      "City Identified zhuanghe\n",
      "City Identified itarema\n",
      "City Identified lompoc\n",
      "City Identified matara\n",
      "City Identified prince rupert\n",
      "City Identified faya\n",
      "City Identified acatlan\n",
      "City Identified puerto boyaca\n",
      "City Identified midland\n",
      "City Identified skibbereen\n",
      "City Identified palwal\n",
      "City Identified mareeba\n",
      "City Identified kurchum\n",
      "City Identified bambous virieux\n",
      "City Identified pangody\n",
      "City Identified alihe\n",
      "City Identified nishihara\n",
      "City Identified ostrovnoy\n",
      "City Identified caravelas\n",
      "City Identified cap malheureux\n",
      "City Identified qaqortoq\n",
      "City NOT Found mentok\n",
      "City Identified novi becej\n",
      "City Identified changying\n",
      "City Identified clyde river\n",
      "City Identified narsingi\n",
      "City Identified tacuarembo\n",
      "City Identified sao jose de piranhas\n",
      "City Identified zhanaozen\n",
      "City Identified nyurba\n",
      "City Identified cap-aux-meules\n",
      "City Identified pangai\n",
      "City Identified tiznit\n",
      "City Identified thinadhoo\n",
      "City Identified mehamn\n",
      "City Identified nichinan\n",
      "City Identified znin\n",
      "City Identified necochea\n",
      "City Identified turayf\n",
      "City Identified belyy yar\n",
      "City Identified kampot\n",
      "City Identified porto de moz\n",
      "City Identified ahipara\n",
      "City Identified sitka\n",
      "City Identified winnemucca\n",
      "City Identified emerald\n",
      "City Identified banda aceh\n"
     ]
    },
    {
     "name": "stdout",
     "output_type": "stream",
     "text": [
      "City Identified qui nhon\n",
      "City Identified thakurgaon\n",
      "City Identified beisfjord\n",
      "City Identified sinop\n",
      "City Identified elmira\n",
      "City NOT Found grand centre\n",
      "City Identified nouadhibou\n",
      "City Identified esil\n",
      "City Identified perth\n",
      "City Identified chinhoyi\n",
      "City Identified marzuq\n",
      "City Identified guerrero negro\n",
      "City Identified umm lajj\n",
      "City Identified christchurch\n",
      "City NOT Found vaitupu\n",
      "City Identified klaksvik\n",
      "City Identified aksarka\n",
      "City Identified khasan\n",
      "City Identified sioux lookout\n",
      "City Identified lincoln\n",
      "City Identified xicotencatl\n",
      "City Identified kiunga\n",
      "City Identified gizo\n",
      "City Identified vitim\n",
      "City NOT Found mrirt\n",
      "City Identified carbondale\n",
      "City Identified gat\n",
      "City Identified requena\n",
      "City NOT Found palabuhanratu\n",
      "City Identified bodden town\n",
      "City Identified ancud\n",
      "City Identified aklavik\n",
      "City NOT Found sedelnikovo\n",
      "City Identified jiwani\n",
      "City Identified kununurra\n",
      "City NOT Found tsihombe\n",
      "City Identified verkh-usugli\n",
      "City Identified talnakh\n",
      "City Identified menomonie\n",
      "City Identified korla\n",
      "City Identified buraydah\n",
      "City Identified zyryanka\n",
      "City Identified hailey\n",
      "City Identified padre bernardo\n",
      "City Identified acari\n",
      "City Identified kletskaya\n",
      "City Identified pundaguitan\n",
      "City Identified ubinskoye\n",
      "City Identified jieshi\n",
      "City Identified san andres\n",
      "City Identified dhali\n",
      "City NOT Found moiyabana\n",
      "City Identified east lansing\n",
      "City Identified penzance\n",
      "City Identified sumenep\n",
      "City Identified ekibastuz\n",
      "City Identified kichmengskiy gorodok\n",
      "City Identified torres\n",
      "City Identified hirara\n",
      "City Identified la ronge\n",
      "City Identified dingle\n",
      "City Identified mandera\n",
      "City Identified tautira\n",
      "City Identified boves\n",
      "City Identified jiangyou\n",
      "City Identified maceio\n",
      "City Identified poum\n",
      "City Identified san cristobal\n",
      "City Identified santa rosalia\n",
      "City Identified new iberia\n",
      "City Identified batagay-alyta\n",
      "City Identified haysville\n",
      "City NOT Found cheuskiny\n",
      "City Identified carutapera\n",
      "City Identified inhambane\n",
      "City Identified key west\n",
      "City Identified bugama\n",
      "City Identified ixtapa\n",
      "City Identified sterling\n",
      "City Identified ribeira grande\n",
      "City Identified mola di bari\n",
      "City Identified lucea\n",
      "City NOT Found malwan\n",
      "City NOT Found grand river south east\n",
      "City NOT Found samusu\n",
      "City Identified tambun\n",
      "City Identified smoky lake\n",
      "City Identified malinovoye ozero\n",
      "City Identified salalah\n",
      "City Identified tura\n",
      "City Identified leningradskiy\n",
      "City Identified visnes\n",
      "City Identified tuensang\n",
      "City NOT Found gorno-chuyskiy\n",
      "City Identified ambovombe\n",
      "City Identified rawson\n",
      "City Identified ashland\n",
      "City Identified bella vista\n",
      "City Identified the valley\n",
      "City Identified goderich\n",
      "City Identified sandwick\n",
      "City Identified bowen\n",
      "City Identified otukpo\n",
      "City Identified kysyl-syr\n",
      "City Identified nome\n",
      "City Identified boyolangu\n",
      "City Identified port-gentil\n",
      "City Identified sai buri\n",
      "City Identified venado\n",
      "City Identified kaeo\n",
      "City Identified moyale\n",
      "City Identified sunland park\n",
      "City Identified hamilton\n",
      "City Identified leh\n",
      "City NOT Found tumannyy\n",
      "City Identified rocha\n",
      "City Identified nouakchott\n",
      "City Identified giyani\n",
      "City Identified dunedin\n",
      "City Identified maniitsoq\n",
      "City Identified sept-iles\n",
      "City Identified fortuna\n",
      "City Identified oktyabrskiy\n",
      "City Identified kahului\n",
      "City Identified roma\n",
      "City Identified buzmeyin\n",
      "City Identified marawi\n",
      "City Identified urumqi\n",
      "City Identified tessalit\n",
      "City Identified kesova gora\n",
      "City NOT Found tasbuget\n",
      "City Identified san pedro\n",
      "City Identified callaway\n",
      "City NOT Found zolotinka\n",
      "City Identified morwell\n",
      "City Identified ilulissat\n",
      "City Identified malakal\n",
      "City NOT Found phumi samraong\n",
      "City Identified ravar\n",
      "City Identified hammerfest\n",
      "City Identified jardim\n",
      "City NOT Found sentyabrskiy\n",
      "City Identified copacabana\n",
      "City Identified erenhot\n",
      "City Identified zilupe\n",
      "City Identified norman wells\n",
      "City Identified high level\n",
      "City Identified lalibela\n",
      "City NOT Found burica\n",
      "City Identified shahr-e babak\n",
      "City Identified beyneu\n",
      "City Identified ladario\n",
      "City Identified safakulevo\n",
      "City Identified buchanan\n",
      "City Identified mugur-aksy\n",
      "City Identified souillac\n",
      "City Identified vao\n",
      "City Identified ambulu\n",
      "City Identified tarutyne\n",
      "City Identified tuy hoa\n",
      "City Identified canelli\n",
      "City Identified upata\n",
      "City Identified yepifan\n",
      "City Identified aykhal\n",
      "City Identified mana\n",
      "City Identified kostomuksha\n",
      "City Identified somanda\n",
      "City Identified mlonggo\n",
      "City Identified arlit\n",
      "City Identified missoula\n",
      "City Identified edd\n",
      "City NOT Found tabiauea\n",
      "City Identified bullhead city\n",
      "City Identified turukhansk\n",
      "City Identified belmonte\n",
      "City Identified gobabis\n",
      "City Identified svetlaya\n",
      "City Identified kortkeros\n",
      "City Identified neijiang\n",
      "City Identified okha\n",
      "City Identified coihaique\n",
      "City Identified myitkyina\n",
      "City Identified biak\n",
      "City Identified camaqua\n",
      "City Identified sidi ali\n",
      "City Identified urdoma\n",
      "City Identified el dorado\n",
      "City Identified jonkoping\n",
      "City Identified ketchikan\n",
      "City Identified sijunjung\n",
      "City Identified rincon\n",
      "City Identified lasa\n",
      "City NOT Found qabis\n",
      "City Identified witu\n",
      "City Identified hasaki\n",
      "City Identified isla vista\n",
      "City Identified vorsma\n",
      "City Identified saint-louis\n",
      "City Identified chaoyang\n",
      "City Identified omboue\n",
      "City Identified srandakan\n",
      "City Identified panino\n",
      "City Identified anamur\n",
      "City Identified kampene\n",
      "City Identified alofi\n",
      "City Identified ust-koksa\n",
      "City Identified araceli\n",
      "City Identified tual\n",
      "City Identified huarmey\n",
      "City Identified chengde\n",
      "City Identified tukrah\n",
      "City NOT Found suzu\n",
      "City Identified griffith\n",
      "City Identified kez\n",
      "City NOT Found bargal\n",
      "City Identified hami\n",
      "City Identified general pico\n",
      "City Identified robore\n",
      "City Identified bara\n",
      "City Identified havoysund\n",
      "City Identified shelburne\n",
      "City Identified eirunepe\n",
      "City Identified boyuibe\n",
      "City Identified antalaha\n",
      "City Identified natal\n",
      "City Identified hare bay\n",
      "City Identified itoman\n",
      "City Identified te anau\n",
      "City Identified porto novo\n",
      "City Identified hit\n",
      "City Identified scarborough\n",
      "City Identified odweyne\n",
      "City Identified lethem\n",
      "City Identified clearlake\n",
      "City Identified nicoya\n",
      "City Identified san clemente\n",
      "City Identified raahe\n",
      "City Identified marsh harbour\n",
      "City Identified saint-augustin\n",
      "City NOT Found tawzar\n",
      "City Identified zhezkazgan\n",
      "City Identified erdaojiang\n",
      "City Identified indaial\n",
      "City Identified ostersund\n",
      "City Identified kozhva\n",
      "City Identified dawlatabad\n",
      "City Identified flinders\n",
      "City Identified karratha\n",
      "City Identified shawinigan\n",
      "City NOT Found ho\n",
      "City Identified saldanha\n",
      "City Identified caririacu\n",
      "City Identified sola\n",
      "City Identified baykit\n",
      "City Identified kolvereid\n",
      "City Identified sovetskiy\n",
      "City Identified bend\n",
      "City Identified yulara\n",
      "City NOT Found nykobing\n",
      "City Identified san jose\n",
      "City Identified chernogolovka\n",
      "City Identified mercedes\n",
      "City Identified parsabad\n",
      "City Identified fonte boa\n",
      "City Identified thurso\n",
      "City Identified ourem\n",
      "City Identified rio gallegos\n"
     ]
    }
   ],
   "source": [
    "# set up lists to hold reponse info\n",
    "cities_found = []\n",
    "lat = []\n",
    "lon = []\n",
    "temp = []\n",
    "humid = []\n",
    "cloud = []\n",
    "wind = []\n",
    "date = []\n",
    "country = []\n",
    "\n",
    "# Loop through the list of cities and perform a request for data on each\n",
    "#Try/Except\n",
    "\n",
    "for city in cities:\n",
    "    try:\n",
    "        response = requests.get(query_url + city).json()\n",
    "        lat.append(response['coord']['lat'])\n",
    "        lon.append(response['coord']['lon'])\n",
    "        temp.append(response['main']['temp_max'])\n",
    "        humid.append(response['main']['humidity'])\n",
    "        cloud.append(response['clouds']['all'])\n",
    "        wind.append(response['wind']['speed'])\n",
    "        country.append(response['sys']['country'])\n",
    "        date.append(response['dt'])\n",
    "        cities_found.append(city)   \n",
    "        print(f\"City Identified {city}\")\n",
    "    except:\n",
    "        print(f\"City NOT Found {city}\")"
   ]
  },
  {
   "cell_type": "markdown",
   "metadata": {},
   "source": [
    "### Convert Raw Data to DataFrame\n",
    "* Export the city data into a .csv.\n",
    "* Display the DataFrame"
   ]
  },
  {
   "cell_type": "code",
   "execution_count": 34,
   "metadata": {
    "scrolled": true
   },
   "outputs": [],
   "source": [
    "weather_data = pd.DataFrame({\n",
    "    'City': cities_found,\n",
    "    'Country': country,   \n",
    "    'Tempurature': temp,\n",
    "    'Humidity': humid,\n",
    "    'Cloudiness': cloud,\n",
    "    'Wind Speed': wind,\n",
    "    'Latitude': lat,\n",
    "    'Longitude': lon,\n",
    "    'Date': date\n",
    "    \n",
    "})"
   ]
  },
  {
   "cell_type": "code",
   "execution_count": 32,
   "metadata": {},
   "outputs": [
    {
     "data": {
      "text/html": [
       "<div>\n",
       "<style scoped>\n",
       "    .dataframe tbody tr th:only-of-type {\n",
       "        vertical-align: middle;\n",
       "    }\n",
       "\n",
       "    .dataframe tbody tr th {\n",
       "        vertical-align: top;\n",
       "    }\n",
       "\n",
       "    .dataframe thead th {\n",
       "        text-align: right;\n",
       "    }\n",
       "</style>\n",
       "<table border=\"1\" class=\"dataframe\">\n",
       "  <thead>\n",
       "    <tr style=\"text-align: right;\">\n",
       "      <th></th>\n",
       "      <th>City</th>\n",
       "      <th>Country</th>\n",
       "      <th>Tempurature</th>\n",
       "      <th>Humidity</th>\n",
       "      <th>Cloudiness</th>\n",
       "      <th>Wind Speed</th>\n",
       "      <th>Latitude</th>\n",
       "      <th>Date</th>\n",
       "    </tr>\n",
       "  </thead>\n",
       "  <tbody>\n",
       "    <tr>\n",
       "      <th>0</th>\n",
       "      <td>punta arenas</td>\n",
       "      <td>CL</td>\n",
       "      <td>46.40</td>\n",
       "      <td>81</td>\n",
       "      <td>40</td>\n",
       "      <td>20.80</td>\n",
       "      <td>-70.92</td>\n",
       "      <td>1602379463</td>\n",
       "    </tr>\n",
       "    <tr>\n",
       "      <th>1</th>\n",
       "      <td>divnogorsk</td>\n",
       "      <td>RU</td>\n",
       "      <td>28.40</td>\n",
       "      <td>86</td>\n",
       "      <td>75</td>\n",
       "      <td>8.95</td>\n",
       "      <td>92.36</td>\n",
       "      <td>1602379463</td>\n",
       "    </tr>\n",
       "    <tr>\n",
       "      <th>2</th>\n",
       "      <td>hermanus</td>\n",
       "      <td>ZA</td>\n",
       "      <td>48.99</td>\n",
       "      <td>86</td>\n",
       "      <td>0</td>\n",
       "      <td>1.01</td>\n",
       "      <td>19.23</td>\n",
       "      <td>1602379464</td>\n",
       "    </tr>\n",
       "    <tr>\n",
       "      <th>3</th>\n",
       "      <td>kapaa</td>\n",
       "      <td>US</td>\n",
       "      <td>87.80</td>\n",
       "      <td>55</td>\n",
       "      <td>40</td>\n",
       "      <td>11.41</td>\n",
       "      <td>-159.32</td>\n",
       "      <td>1602379464</td>\n",
       "    </tr>\n",
       "    <tr>\n",
       "      <th>4</th>\n",
       "      <td>zhicheng</td>\n",
       "      <td>CN</td>\n",
       "      <td>72.25</td>\n",
       "      <td>63</td>\n",
       "      <td>0</td>\n",
       "      <td>1.86</td>\n",
       "      <td>111.50</td>\n",
       "      <td>1602379831</td>\n",
       "    </tr>\n",
       "    <tr>\n",
       "      <th>...</th>\n",
       "      <td>...</td>\n",
       "      <td>...</td>\n",
       "      <td>...</td>\n",
       "      <td>...</td>\n",
       "      <td>...</td>\n",
       "      <td>...</td>\n",
       "      <td>...</td>\n",
       "      <td>...</td>\n",
       "    </tr>\n",
       "    <tr>\n",
       "      <th>536</th>\n",
       "      <td>parsabad</td>\n",
       "      <td>IR</td>\n",
       "      <td>51.80</td>\n",
       "      <td>100</td>\n",
       "      <td>0</td>\n",
       "      <td>4.70</td>\n",
       "      <td>47.92</td>\n",
       "      <td>1602379513</td>\n",
       "    </tr>\n",
       "    <tr>\n",
       "      <th>537</th>\n",
       "      <td>fonte boa</td>\n",
       "      <td>BR</td>\n",
       "      <td>79.21</td>\n",
       "      <td>67</td>\n",
       "      <td>94</td>\n",
       "      <td>1.50</td>\n",
       "      <td>-66.27</td>\n",
       "      <td>1602379513</td>\n",
       "    </tr>\n",
       "    <tr>\n",
       "      <th>538</th>\n",
       "      <td>thurso</td>\n",
       "      <td>GB</td>\n",
       "      <td>46.40</td>\n",
       "      <td>93</td>\n",
       "      <td>91</td>\n",
       "      <td>14.99</td>\n",
       "      <td>-3.53</td>\n",
       "      <td>1602379513</td>\n",
       "    </tr>\n",
       "    <tr>\n",
       "      <th>539</th>\n",
       "      <td>ourem</td>\n",
       "      <td>PT</td>\n",
       "      <td>63.00</td>\n",
       "      <td>87</td>\n",
       "      <td>0</td>\n",
       "      <td>4.70</td>\n",
       "      <td>-8.59</td>\n",
       "      <td>1602379513</td>\n",
       "    </tr>\n",
       "    <tr>\n",
       "      <th>540</th>\n",
       "      <td>rio gallegos</td>\n",
       "      <td>AR</td>\n",
       "      <td>57.20</td>\n",
       "      <td>35</td>\n",
       "      <td>100</td>\n",
       "      <td>27.51</td>\n",
       "      <td>-69.22</td>\n",
       "      <td>1602379513</td>\n",
       "    </tr>\n",
       "  </tbody>\n",
       "</table>\n",
       "<p>541 rows × 8 columns</p>\n",
       "</div>"
      ],
      "text/plain": [
       "             City Country  Tempurature  Humidity  Cloudiness  Wind Speed  \\\n",
       "0    punta arenas      CL        46.40        81          40       20.80   \n",
       "1      divnogorsk      RU        28.40        86          75        8.95   \n",
       "2        hermanus      ZA        48.99        86           0        1.01   \n",
       "3           kapaa      US        87.80        55          40       11.41   \n",
       "4        zhicheng      CN        72.25        63           0        1.86   \n",
       "..            ...     ...          ...       ...         ...         ...   \n",
       "536      parsabad      IR        51.80       100           0        4.70   \n",
       "537     fonte boa      BR        79.21        67          94        1.50   \n",
       "538        thurso      GB        46.40        93          91       14.99   \n",
       "539         ourem      PT        63.00        87           0        4.70   \n",
       "540  rio gallegos      AR        57.20        35         100       27.51   \n",
       "\n",
       "     Latitude        Date  \n",
       "0      -70.92  1602379463  \n",
       "1       92.36  1602379463  \n",
       "2       19.23  1602379464  \n",
       "3     -159.32  1602379464  \n",
       "4      111.50  1602379831  \n",
       "..        ...         ...  \n",
       "536     47.92  1602379513  \n",
       "537    -66.27  1602379513  \n",
       "538     -3.53  1602379513  \n",
       "539     -8.59  1602379513  \n",
       "540    -69.22  1602379513  \n",
       "\n",
       "[541 rows x 8 columns]"
      ]
     },
     "execution_count": 32,
     "metadata": {},
     "output_type": "execute_result"
    }
   ],
   "source": [
    "weather_data.to_csv(\"cities_weather.csv\")\n",
    "\n",
    "weather_data"
   ]
  },
  {
   "cell_type": "markdown",
   "metadata": {},
   "source": [
    "## Inspect the data and remove the cities where the humidity > 100%.\n",
    "----\n",
    "Skip this step if there are no cities that have humidity > 100%. "
   ]
  },
  {
   "cell_type": "code",
   "execution_count": 17,
   "metadata": {},
   "outputs": [],
   "source": [
    "#weather_data.describe()"
   ]
  },
  {
   "cell_type": "code",
   "execution_count": 16,
   "metadata": {},
   "outputs": [
    {
     "data": {
      "text/plain": [
       "Int64Index([], dtype='int64')"
      ]
     },
     "execution_count": 16,
     "metadata": {},
     "output_type": "execute_result"
    }
   ],
   "source": [
    "#Get the indices of cities that have humidity over 100%.\n",
    "\n",
    "high_humidity = weather_data [(weather_data['Humidity'] > 100)].index\n",
    "\n",
    "high_humidity"
   ]
  },
  {
   "cell_type": "code",
   "execution_count": 20,
   "metadata": {},
   "outputs": [],
   "source": [
    "# Make a new DataFrame equal to the city data to drop all humidity outliers by index.\n",
    "# Passing \"inplace=False\" will make a copy of the city_data DataFrame, which we call \"clean_city_data\".\n"
   ]
  },
  {
   "cell_type": "code",
   "execution_count": null,
   "metadata": {},
   "outputs": [],
   "source": [
    "# Extract relevant fields from the data frame\n",
    "\n",
    "\n",
    "# Export the City_Data into a csv\n"
   ]
  },
  {
   "cell_type": "code",
   "execution_count": null,
   "metadata": {},
   "outputs": [],
   "source": [
    "#Cannot figure this part out"
   ]
  },
  {
   "cell_type": "markdown",
   "metadata": {},
   "source": [
    "## Plotting the Data\n",
    "* Use proper labeling of the plots using plot titles (including date of analysis) and axes labels.\n",
    "* Save the plotted figures as .pngs."
   ]
  },
  {
   "cell_type": "code",
   "execution_count": 28,
   "metadata": {},
   "outputs": [],
   "source": [
    "#Set max date as \"runDate\" for graph titles\n",
    "endRunDate = weather_data[\"Date\"].max()\n",
    "runDate = datetime.utcfromtimestamp(endRunDate).strftime('%Y-%m-%d')"
   ]
  },
  {
   "cell_type": "markdown",
   "metadata": {},
   "source": [
    "## Latitude vs. Temperature Plot"
   ]
  },
  {
   "cell_type": "code",
   "execution_count": 41,
   "metadata": {
    "scrolled": true
   },
   "outputs": [
    {
     "ename": "KeyError",
     "evalue": "'Temperature'",
     "output_type": "error",
     "traceback": [
      "\u001b[0;31m---------------------------------------------------------------------------\u001b[0m",
      "\u001b[0;31mKeyError\u001b[0m                                  Traceback (most recent call last)",
      "\u001b[0;32m~/opt/anaconda3/lib/python3.7/site-packages/pandas/core/indexes/base.py\u001b[0m in \u001b[0;36mget_loc\u001b[0;34m(self, key, method, tolerance)\u001b[0m\n\u001b[1;32m   2645\u001b[0m             \u001b[0;32mtry\u001b[0m\u001b[0;34m:\u001b[0m\u001b[0;34m\u001b[0m\u001b[0;34m\u001b[0m\u001b[0m\n\u001b[0;32m-> 2646\u001b[0;31m                 \u001b[0;32mreturn\u001b[0m \u001b[0mself\u001b[0m\u001b[0;34m.\u001b[0m\u001b[0m_engine\u001b[0m\u001b[0;34m.\u001b[0m\u001b[0mget_loc\u001b[0m\u001b[0;34m(\u001b[0m\u001b[0mkey\u001b[0m\u001b[0;34m)\u001b[0m\u001b[0;34m\u001b[0m\u001b[0;34m\u001b[0m\u001b[0m\n\u001b[0m\u001b[1;32m   2647\u001b[0m             \u001b[0;32mexcept\u001b[0m \u001b[0mKeyError\u001b[0m\u001b[0;34m:\u001b[0m\u001b[0;34m\u001b[0m\u001b[0;34m\u001b[0m\u001b[0m\n",
      "\u001b[0;32mpandas/_libs/index.pyx\u001b[0m in \u001b[0;36mpandas._libs.index.IndexEngine.get_loc\u001b[0;34m()\u001b[0m\n",
      "\u001b[0;32mpandas/_libs/index.pyx\u001b[0m in \u001b[0;36mpandas._libs.index.IndexEngine.get_loc\u001b[0;34m()\u001b[0m\n",
      "\u001b[0;32mpandas/_libs/hashtable_class_helper.pxi\u001b[0m in \u001b[0;36mpandas._libs.hashtable.PyObjectHashTable.get_item\u001b[0;34m()\u001b[0m\n",
      "\u001b[0;32mpandas/_libs/hashtable_class_helper.pxi\u001b[0m in \u001b[0;36mpandas._libs.hashtable.PyObjectHashTable.get_item\u001b[0;34m()\u001b[0m\n",
      "\u001b[0;31mKeyError\u001b[0m: 'Temperature'",
      "\nDuring handling of the above exception, another exception occurred:\n",
      "\u001b[0;31mKeyError\u001b[0m                                  Traceback (most recent call last)",
      "\u001b[0;32m<ipython-input-41-1d32b7afc731>\u001b[0m in \u001b[0;36m<module>\u001b[0;34m\u001b[0m\n\u001b[1;32m      1\u001b[0m \u001b[0;31m#set data to plot\u001b[0m\u001b[0;34m\u001b[0m\u001b[0;34m\u001b[0m\u001b[0;34m\u001b[0m\u001b[0m\n\u001b[1;32m      2\u001b[0m \u001b[0mx\u001b[0m \u001b[0;34m=\u001b[0m \u001b[0mweather_data\u001b[0m\u001b[0;34m[\u001b[0m\u001b[0;34m\"Latitude\"\u001b[0m\u001b[0;34m]\u001b[0m\u001b[0;34m\u001b[0m\u001b[0;34m\u001b[0m\u001b[0m\n\u001b[0;32m----> 3\u001b[0;31m \u001b[0my\u001b[0m \u001b[0;34m=\u001b[0m \u001b[0mweather_data\u001b[0m\u001b[0;34m[\u001b[0m\u001b[0;34m\"Temperature\"\u001b[0m\u001b[0;34m]\u001b[0m\u001b[0;34m\u001b[0m\u001b[0;34m\u001b[0m\u001b[0m\n\u001b[0m\u001b[1;32m      4\u001b[0m \u001b[0mplt\u001b[0m\u001b[0;34m.\u001b[0m\u001b[0mscatter\u001b[0m\u001b[0;34m(\u001b[0m\u001b[0mx\u001b[0m\u001b[0;34m,\u001b[0m\u001b[0my\u001b[0m\u001b[0;34m)\u001b[0m\u001b[0;34m\u001b[0m\u001b[0;34m\u001b[0m\u001b[0m\n\u001b[1;32m      5\u001b[0m \u001b[0;34m\u001b[0m\u001b[0m\n",
      "\u001b[0;32m~/opt/anaconda3/lib/python3.7/site-packages/pandas/core/frame.py\u001b[0m in \u001b[0;36m__getitem__\u001b[0;34m(self, key)\u001b[0m\n\u001b[1;32m   2798\u001b[0m             \u001b[0;32mif\u001b[0m \u001b[0mself\u001b[0m\u001b[0;34m.\u001b[0m\u001b[0mcolumns\u001b[0m\u001b[0;34m.\u001b[0m\u001b[0mnlevels\u001b[0m \u001b[0;34m>\u001b[0m \u001b[0;36m1\u001b[0m\u001b[0;34m:\u001b[0m\u001b[0;34m\u001b[0m\u001b[0;34m\u001b[0m\u001b[0m\n\u001b[1;32m   2799\u001b[0m                 \u001b[0;32mreturn\u001b[0m \u001b[0mself\u001b[0m\u001b[0;34m.\u001b[0m\u001b[0m_getitem_multilevel\u001b[0m\u001b[0;34m(\u001b[0m\u001b[0mkey\u001b[0m\u001b[0;34m)\u001b[0m\u001b[0;34m\u001b[0m\u001b[0;34m\u001b[0m\u001b[0m\n\u001b[0;32m-> 2800\u001b[0;31m             \u001b[0mindexer\u001b[0m \u001b[0;34m=\u001b[0m \u001b[0mself\u001b[0m\u001b[0;34m.\u001b[0m\u001b[0mcolumns\u001b[0m\u001b[0;34m.\u001b[0m\u001b[0mget_loc\u001b[0m\u001b[0;34m(\u001b[0m\u001b[0mkey\u001b[0m\u001b[0;34m)\u001b[0m\u001b[0;34m\u001b[0m\u001b[0;34m\u001b[0m\u001b[0m\n\u001b[0m\u001b[1;32m   2801\u001b[0m             \u001b[0;32mif\u001b[0m \u001b[0mis_integer\u001b[0m\u001b[0;34m(\u001b[0m\u001b[0mindexer\u001b[0m\u001b[0;34m)\u001b[0m\u001b[0;34m:\u001b[0m\u001b[0;34m\u001b[0m\u001b[0;34m\u001b[0m\u001b[0m\n\u001b[1;32m   2802\u001b[0m                 \u001b[0mindexer\u001b[0m \u001b[0;34m=\u001b[0m \u001b[0;34m[\u001b[0m\u001b[0mindexer\u001b[0m\u001b[0;34m]\u001b[0m\u001b[0;34m\u001b[0m\u001b[0;34m\u001b[0m\u001b[0m\n",
      "\u001b[0;32m~/opt/anaconda3/lib/python3.7/site-packages/pandas/core/indexes/base.py\u001b[0m in \u001b[0;36mget_loc\u001b[0;34m(self, key, method, tolerance)\u001b[0m\n\u001b[1;32m   2646\u001b[0m                 \u001b[0;32mreturn\u001b[0m \u001b[0mself\u001b[0m\u001b[0;34m.\u001b[0m\u001b[0m_engine\u001b[0m\u001b[0;34m.\u001b[0m\u001b[0mget_loc\u001b[0m\u001b[0;34m(\u001b[0m\u001b[0mkey\u001b[0m\u001b[0;34m)\u001b[0m\u001b[0;34m\u001b[0m\u001b[0;34m\u001b[0m\u001b[0m\n\u001b[1;32m   2647\u001b[0m             \u001b[0;32mexcept\u001b[0m \u001b[0mKeyError\u001b[0m\u001b[0;34m:\u001b[0m\u001b[0;34m\u001b[0m\u001b[0;34m\u001b[0m\u001b[0m\n\u001b[0;32m-> 2648\u001b[0;31m                 \u001b[0;32mreturn\u001b[0m \u001b[0mself\u001b[0m\u001b[0;34m.\u001b[0m\u001b[0m_engine\u001b[0m\u001b[0;34m.\u001b[0m\u001b[0mget_loc\u001b[0m\u001b[0;34m(\u001b[0m\u001b[0mself\u001b[0m\u001b[0;34m.\u001b[0m\u001b[0m_maybe_cast_indexer\u001b[0m\u001b[0;34m(\u001b[0m\u001b[0mkey\u001b[0m\u001b[0;34m)\u001b[0m\u001b[0;34m)\u001b[0m\u001b[0;34m\u001b[0m\u001b[0;34m\u001b[0m\u001b[0m\n\u001b[0m\u001b[1;32m   2649\u001b[0m         \u001b[0mindexer\u001b[0m \u001b[0;34m=\u001b[0m \u001b[0mself\u001b[0m\u001b[0;34m.\u001b[0m\u001b[0mget_indexer\u001b[0m\u001b[0;34m(\u001b[0m\u001b[0;34m[\u001b[0m\u001b[0mkey\u001b[0m\u001b[0;34m]\u001b[0m\u001b[0;34m,\u001b[0m \u001b[0mmethod\u001b[0m\u001b[0;34m=\u001b[0m\u001b[0mmethod\u001b[0m\u001b[0;34m,\u001b[0m \u001b[0mtolerance\u001b[0m\u001b[0;34m=\u001b[0m\u001b[0mtolerance\u001b[0m\u001b[0;34m)\u001b[0m\u001b[0;34m\u001b[0m\u001b[0;34m\u001b[0m\u001b[0m\n\u001b[1;32m   2650\u001b[0m         \u001b[0;32mif\u001b[0m \u001b[0mindexer\u001b[0m\u001b[0;34m.\u001b[0m\u001b[0mndim\u001b[0m \u001b[0;34m>\u001b[0m \u001b[0;36m1\u001b[0m \u001b[0;32mor\u001b[0m \u001b[0mindexer\u001b[0m\u001b[0;34m.\u001b[0m\u001b[0msize\u001b[0m \u001b[0;34m>\u001b[0m \u001b[0;36m1\u001b[0m\u001b[0;34m:\u001b[0m\u001b[0;34m\u001b[0m\u001b[0;34m\u001b[0m\u001b[0m\n",
      "\u001b[0;32mpandas/_libs/index.pyx\u001b[0m in \u001b[0;36mpandas._libs.index.IndexEngine.get_loc\u001b[0;34m()\u001b[0m\n",
      "\u001b[0;32mpandas/_libs/index.pyx\u001b[0m in \u001b[0;36mpandas._libs.index.IndexEngine.get_loc\u001b[0;34m()\u001b[0m\n",
      "\u001b[0;32mpandas/_libs/hashtable_class_helper.pxi\u001b[0m in \u001b[0;36mpandas._libs.hashtable.PyObjectHashTable.get_item\u001b[0;34m()\u001b[0m\n",
      "\u001b[0;32mpandas/_libs/hashtable_class_helper.pxi\u001b[0m in \u001b[0;36mpandas._libs.hashtable.PyObjectHashTable.get_item\u001b[0;34m()\u001b[0m\n",
      "\u001b[0;31mKeyError\u001b[0m: 'Temperature'"
     ]
    }
   ],
   "source": [
    "#set data to plot\n",
    "x = weather_data[\"Latitude\"]\n",
    "y = weather_data[\"Temperature\"] #Getting weird error that there is something wrong with temperature\n",
    "plt.scatter(x,y)\n",
    "\n",
    "#add gridlines\n",
    "plt.grid()\n",
    "\n",
    "#add titles and axis labels\n",
    "plt.title(f\"Latitude vs Temperature on {runDate}\")\n",
    "plt.xlabel(\"Latitude\")\n",
    "plt.ylabel(\"Temperature (F)\")\n",
    "\n",
    "#export as png\n",
    "plt.savefig(f'Latitude vs Temperature on {runDate}.png')\n",
    "\n",
    "#display plot\n",
    "plt.show()"
   ]
  },
  {
   "cell_type": "markdown",
   "metadata": {},
   "source": [
    "## Latitude vs. Humidity Plot"
   ]
  },
  {
   "cell_type": "code",
   "execution_count": 40,
   "metadata": {},
   "outputs": [
    {
     "data": {
      "image/png": "[encoded data removed]",
      "text/plain": [
       "<Figure size 432x288 with 1 Axes>"
      ]
     },
     "metadata": {
      "needs_background": "light"
     },
     "output_type": "display_data"
    }
   ],
   "source": [
    "#set data to plot\n",
    "h = weather_data[\"Humidity\"]\n",
    "plt.scatter(x,h)\n",
    "\n",
    "#add gridlines\n",
    "plt.grid()\n",
    "\n",
    "#add titles and axis labels\n",
    "plt.title(f\"Latitude vs Humidity on {runDate}\")\n",
    "plt.xlabel(\"Latitude\")\n",
    "plt.ylabel(\"Humidity (%)\")\n",
    "\n",
    "#export as png\n",
    "plt.savefig(f'Latitude vs Humidity on {runDate}.png')\n",
    "\n",
    "#display plot\n",
    "plt.show()"
   ]
  },
  {
   "cell_type": "markdown",
   "metadata": {},
   "source": [
    "## Latitude vs. Cloudiness Plot"
   ]
  },
  {
   "cell_type": "code",
   "execution_count": 42,
   "metadata": {},
   "outputs": [
    {
     "data": {
      "image/png": "[encoded data removed]",
      "text/plain": [
       "<Figure size 432x288 with 1 Axes>"
      ]
     },
     "metadata": {
      "needs_background": "light"
     },
     "output_type": "display_data"
    }
   ],
   "source": [
    "#set data to plot\n",
    "c = weather_data[\"Cloudiness\"]\n",
    "plt.scatter(x,c)\n",
    "\n",
    "#add gridlines\n",
    "plt.grid()\n",
    "\n",
    "#add titles and axis labels\n",
    "plt.title(f\"Latitude vs Cloudiness on {runDate}\")\n",
    "plt.xlabel(\"Latitude\")\n",
    "plt.ylabel(\"Cloudiness (%)\")\n",
    "\n",
    "#export as png\n",
    "plt.savefig(f'Latitude vs Cloudiness on {runDate}.png')\n",
    "\n",
    "#display plot\n",
    "plt.show()"
   ]
  },
  {
   "cell_type": "markdown",
   "metadata": {},
   "source": [
    "## Latitude vs. Wind Speed Plot"
   ]
  },
  {
   "cell_type": "code",
   "execution_count": 44,
   "metadata": {},
   "outputs": [
    {
     "data": {
      "image/png": "[encoded data removed]",
      "text/plain": [
       "<Figure size 432x288 with 1 Axes>"
      ]
     },
     "metadata": {
      "needs_background": "light"
     },
     "output_type": "display_data"
    }
   ],
   "source": [
    "#set data to plot\n",
    "w = weather_data[\"Wind Speed\"]\n",
    "plt.scatter(x,w)\n",
    "\n",
    "#add gridlines\n",
    "plt.grid()\n",
    "\n",
    "#add titles and axis labels\n",
    "plt.title(f\"Latitude vs Windiness on {runDate}\")\n",
    "plt.xlabel(\"Latitude\")\n",
    "plt.ylabel(\"Windiness (mph)\")\n",
    "\n",
    "#export as png\n",
    "plt.savefig(f'Latitude vs Windiness on {runDate}.png')\n",
    "\n",
    "#display plot\n",
    "plt.show()"
   ]
  },
  {
   "cell_type": "markdown",
   "metadata": {},
   "source": [
    "## Linear Regression"
   ]
  },
  {
   "cell_type": "code",
   "execution_count": null,
   "metadata": {},
   "outputs": [],
   "source": [
    "# OPTIONAL: Create a function to create Linear Regression plots"
   ]
  },
  {
   "cell_type": "code",
   "execution_count": 60,
   "metadata": {},
   "outputs": [],
   "source": [
    "# Create Northern and Southern Hemisphere DataFrames\n",
    "north_hemi = weather_data.loc[weather_data[\"Latitude\"] > 0]\n",
    "south_hemi = weather_data.loc[weather_data[\"Latitude\"] < 0]\n",
    "\n",
    "#north_hemi\n",
    "#south_hemi"
   ]
  },
  {
   "cell_type": "markdown",
   "metadata": {},
   "source": [
    "####  Northern Hemisphere - Max Temp vs. Latitude Linear Regression"
   ]
  },
  {
   "cell_type": "code",
   "execution_count": 68,
   "metadata": {},
   "outputs": [
    {
     "ename": "KeyError",
     "evalue": "'Temperature'",
     "output_type": "error",
     "traceback": [
      "\u001b[0;31m---------------------------------------------------------------------------\u001b[0m",
      "\u001b[0;31mKeyError\u001b[0m                                  Traceback (most recent call last)",
      "\u001b[0;32m~/opt/anaconda3/lib/python3.7/site-packages/pandas/core/indexes/base.py\u001b[0m in \u001b[0;36mget_loc\u001b[0;34m(self, key, method, tolerance)\u001b[0m\n\u001b[1;32m   2645\u001b[0m             \u001b[0;32mtry\u001b[0m\u001b[0;34m:\u001b[0m\u001b[0;34m\u001b[0m\u001b[0;34m\u001b[0m\u001b[0m\n\u001b[0;32m-> 2646\u001b[0;31m                 \u001b[0;32mreturn\u001b[0m \u001b[0mself\u001b[0m\u001b[0;34m.\u001b[0m\u001b[0m_engine\u001b[0m\u001b[0;34m.\u001b[0m\u001b[0mget_loc\u001b[0m\u001b[0;34m(\u001b[0m\u001b[0mkey\u001b[0m\u001b[0;34m)\u001b[0m\u001b[0;34m\u001b[0m\u001b[0;34m\u001b[0m\u001b[0m\n\u001b[0m\u001b[1;32m   2647\u001b[0m             \u001b[0;32mexcept\u001b[0m \u001b[0mKeyError\u001b[0m\u001b[0;34m:\u001b[0m\u001b[0;34m\u001b[0m\u001b[0;34m\u001b[0m\u001b[0m\n",
      "\u001b[0;32mpandas/_libs/index.pyx\u001b[0m in \u001b[0;36mpandas._libs.index.IndexEngine.get_loc\u001b[0;34m()\u001b[0m\n",
      "\u001b[0;32mpandas/_libs/index.pyx\u001b[0m in \u001b[0;36mpandas._libs.index.IndexEngine.get_loc\u001b[0;34m()\u001b[0m\n",
      "\u001b[0;32mpandas/_libs/hashtable_class_helper.pxi\u001b[0m in \u001b[0;36mpandas._libs.hashtable.PyObjectHashTable.get_item\u001b[0;34m()\u001b[0m\n",
      "\u001b[0;32mpandas/_libs/hashtable_class_helper.pxi\u001b[0m in \u001b[0;36mpandas._libs.hashtable.PyObjectHashTable.get_item\u001b[0;34m()\u001b[0m\n",
      "\u001b[0;31mKeyError\u001b[0m: 'Temperature'",
      "\nDuring handling of the above exception, another exception occurred:\n",
      "\u001b[0;31mKeyError\u001b[0m                                  Traceback (most recent call last)",
      "\u001b[0;32m<ipython-input-68-523dde48e864>\u001b[0m in \u001b[0;36m<module>\u001b[0;34m\u001b[0m\n\u001b[1;32m      1\u001b[0m \u001b[0mx_values\u001b[0m \u001b[0;34m=\u001b[0m \u001b[0mnorth_hemi\u001b[0m\u001b[0;34m[\u001b[0m\u001b[0;34m'Latitude'\u001b[0m\u001b[0;34m]\u001b[0m\u001b[0;34m\u001b[0m\u001b[0;34m\u001b[0m\u001b[0m\n\u001b[0;32m----> 2\u001b[0;31m \u001b[0my_values\u001b[0m \u001b[0;34m=\u001b[0m \u001b[0mnorth_hemi\u001b[0m\u001b[0;34m[\u001b[0m\u001b[0;34m'Temperature'\u001b[0m\u001b[0;34m]\u001b[0m\u001b[0;34m\u001b[0m\u001b[0;34m\u001b[0m\u001b[0m\n\u001b[0m\u001b[1;32m      3\u001b[0m \u001b[0;34m\u001b[0m\u001b[0m\n\u001b[1;32m      4\u001b[0m \u001b[0;34m(\u001b[0m\u001b[0mslope\u001b[0m\u001b[0;34m,\u001b[0m \u001b[0mintercept\u001b[0m\u001b[0;34m,\u001b[0m \u001b[0mrvalue\u001b[0m\u001b[0;34m,\u001b[0m \u001b[0mpvalue\u001b[0m\u001b[0;34m,\u001b[0m \u001b[0mstderr\u001b[0m\u001b[0;34m)\u001b[0m \u001b[0;34m=\u001b[0m \u001b[0mlinregress\u001b[0m\u001b[0;34m(\u001b[0m\u001b[0mx_values\u001b[0m\u001b[0;34m,\u001b[0m \u001b[0my_values\u001b[0m\u001b[0;34m)\u001b[0m\u001b[0;34m\u001b[0m\u001b[0;34m\u001b[0m\u001b[0m\n\u001b[1;32m      5\u001b[0m \u001b[0mregress_values\u001b[0m \u001b[0;34m=\u001b[0m \u001b[0mx_values\u001b[0m \u001b[0;34m*\u001b[0m \u001b[0mslope\u001b[0m \u001b[0;34m+\u001b[0m \u001b[0mintercept\u001b[0m\u001b[0;34m\u001b[0m\u001b[0;34m\u001b[0m\u001b[0m\n",
      "\u001b[0;32m~/opt/anaconda3/lib/python3.7/site-packages/pandas/core/frame.py\u001b[0m in \u001b[0;36m__getitem__\u001b[0;34m(self, key)\u001b[0m\n\u001b[1;32m   2798\u001b[0m             \u001b[0;32mif\u001b[0m \u001b[0mself\u001b[0m\u001b[0;34m.\u001b[0m\u001b[0mcolumns\u001b[0m\u001b[0;34m.\u001b[0m\u001b[0mnlevels\u001b[0m \u001b[0;34m>\u001b[0m \u001b[0;36m1\u001b[0m\u001b[0;34m:\u001b[0m\u001b[0;34m\u001b[0m\u001b[0;34m\u001b[0m\u001b[0m\n\u001b[1;32m   2799\u001b[0m                 \u001b[0;32mreturn\u001b[0m \u001b[0mself\u001b[0m\u001b[0;34m.\u001b[0m\u001b[0m_getitem_multilevel\u001b[0m\u001b[0;34m(\u001b[0m\u001b[0mkey\u001b[0m\u001b[0;34m)\u001b[0m\u001b[0;34m\u001b[0m\u001b[0;34m\u001b[0m\u001b[0m\n\u001b[0;32m-> 2800\u001b[0;31m             \u001b[0mindexer\u001b[0m \u001b[0;34m=\u001b[0m \u001b[0mself\u001b[0m\u001b[0;34m.\u001b[0m\u001b[0mcolumns\u001b[0m\u001b[0;34m.\u001b[0m\u001b[0mget_loc\u001b[0m\u001b[0;34m(\u001b[0m\u001b[0mkey\u001b[0m\u001b[0;34m)\u001b[0m\u001b[0;34m\u001b[0m\u001b[0;34m\u001b[0m\u001b[0m\n\u001b[0m\u001b[1;32m   2801\u001b[0m             \u001b[0;32mif\u001b[0m \u001b[0mis_integer\u001b[0m\u001b[0;34m(\u001b[0m\u001b[0mindexer\u001b[0m\u001b[0;34m)\u001b[0m\u001b[0;34m:\u001b[0m\u001b[0;34m\u001b[0m\u001b[0;34m\u001b[0m\u001b[0m\n\u001b[1;32m   2802\u001b[0m                 \u001b[0mindexer\u001b[0m \u001b[0;34m=\u001b[0m \u001b[0;34m[\u001b[0m\u001b[0mindexer\u001b[0m\u001b[0;34m]\u001b[0m\u001b[0;34m\u001b[0m\u001b[0;34m\u001b[0m\u001b[0m\n",
      "\u001b[0;32m~/opt/anaconda3/lib/python3.7/site-packages/pandas/core/indexes/base.py\u001b[0m in \u001b[0;36mget_loc\u001b[0;34m(self, key, method, tolerance)\u001b[0m\n\u001b[1;32m   2646\u001b[0m                 \u001b[0;32mreturn\u001b[0m \u001b[0mself\u001b[0m\u001b[0;34m.\u001b[0m\u001b[0m_engine\u001b[0m\u001b[0;34m.\u001b[0m\u001b[0mget_loc\u001b[0m\u001b[0;34m(\u001b[0m\u001b[0mkey\u001b[0m\u001b[0;34m)\u001b[0m\u001b[0;34m\u001b[0m\u001b[0;34m\u001b[0m\u001b[0m\n\u001b[1;32m   2647\u001b[0m             \u001b[0;32mexcept\u001b[0m \u001b[0mKeyError\u001b[0m\u001b[0;34m:\u001b[0m\u001b[0;34m\u001b[0m\u001b[0;34m\u001b[0m\u001b[0m\n\u001b[0;32m-> 2648\u001b[0;31m                 \u001b[0;32mreturn\u001b[0m \u001b[0mself\u001b[0m\u001b[0;34m.\u001b[0m\u001b[0m_engine\u001b[0m\u001b[0;34m.\u001b[0m\u001b[0mget_loc\u001b[0m\u001b[0;34m(\u001b[0m\u001b[0mself\u001b[0m\u001b[0;34m.\u001b[0m\u001b[0m_maybe_cast_indexer\u001b[0m\u001b[0;34m(\u001b[0m\u001b[0mkey\u001b[0m\u001b[0;34m)\u001b[0m\u001b[0;34m)\u001b[0m\u001b[0;34m\u001b[0m\u001b[0;34m\u001b[0m\u001b[0m\n\u001b[0m\u001b[1;32m   2649\u001b[0m         \u001b[0mindexer\u001b[0m \u001b[0;34m=\u001b[0m \u001b[0mself\u001b[0m\u001b[0;34m.\u001b[0m\u001b[0mget_indexer\u001b[0m\u001b[0;34m(\u001b[0m\u001b[0;34m[\u001b[0m\u001b[0mkey\u001b[0m\u001b[0;34m]\u001b[0m\u001b[0;34m,\u001b[0m \u001b[0mmethod\u001b[0m\u001b[0;34m=\u001b[0m\u001b[0mmethod\u001b[0m\u001b[0;34m,\u001b[0m \u001b[0mtolerance\u001b[0m\u001b[0;34m=\u001b[0m\u001b[0mtolerance\u001b[0m\u001b[0;34m)\u001b[0m\u001b[0;34m\u001b[0m\u001b[0;34m\u001b[0m\u001b[0m\n\u001b[1;32m   2650\u001b[0m         \u001b[0;32mif\u001b[0m \u001b[0mindexer\u001b[0m\u001b[0;34m.\u001b[0m\u001b[0mndim\u001b[0m \u001b[0;34m>\u001b[0m \u001b[0;36m1\u001b[0m \u001b[0;32mor\u001b[0m \u001b[0mindexer\u001b[0m\u001b[0;34m.\u001b[0m\u001b[0msize\u001b[0m \u001b[0;34m>\u001b[0m \u001b[0;36m1\u001b[0m\u001b[0;34m:\u001b[0m\u001b[0;34m\u001b[0m\u001b[0;34m\u001b[0m\u001b[0m\n",
      "\u001b[0;32mpandas/_libs/index.pyx\u001b[0m in \u001b[0;36mpandas._libs.index.IndexEngine.get_loc\u001b[0;34m()\u001b[0m\n",
      "\u001b[0;32mpandas/_libs/index.pyx\u001b[0m in \u001b[0;36mpandas._libs.index.IndexEngine.get_loc\u001b[0;34m()\u001b[0m\n",
      "\u001b[0;32mpandas/_libs/hashtable_class_helper.pxi\u001b[0m in \u001b[0;36mpandas._libs.hashtable.PyObjectHashTable.get_item\u001b[0;34m()\u001b[0m\n",
      "\u001b[0;32mpandas/_libs/hashtable_class_helper.pxi\u001b[0m in \u001b[0;36mpandas._libs.hashtable.PyObjectHashTable.get_item\u001b[0;34m()\u001b[0m\n",
      "\u001b[0;31mKeyError\u001b[0m: 'Temperature'"
     ]
    }
   ],
   "source": [
    "x_values = north_hemi['Latitude']\n",
    "y_values = north_hemi['Temperature']\n",
    "\n",
    "(slope, intercept, rvalue, pvalue, stderr) = linregress(x_values, y_values)\n",
    "regress_values = x_values * slope + intercept\n",
    "line_eq = \"y = \" + str(round(slope,2)) + \"x + \" + str(round(intercept,2))\n",
    "\n",
    "plt.scatter(x_values,y_values)\n",
    "plt.plot(x_values,regress_values,\"r-\")\n",
    "plt.annotate(line_eq,(6,10),fontsize=15,color=\"red\")\n",
    "plt.xlabel('Latitude')\n",
    "plt.ylabel('Max Temp')\n",
    "plt.title(f\"Northern Hemisphere: Latitude vs Max Temp on {runDate}\")\n",
    "plt.show()"
   ]
  },
  {
   "cell_type": "markdown",
   "metadata": {},
   "source": [
    "####  Southern Hemisphere - Max Temp vs. Latitude Linear Regression"
   ]
  },
  {
   "cell_type": "code",
   "execution_count": 67,
   "metadata": {},
   "outputs": [
    {
     "ename": "KeyError",
     "evalue": "'Temperature'",
     "output_type": "error",
     "traceback": [
      "\u001b[0;31m---------------------------------------------------------------------------\u001b[0m",
      "\u001b[0;31mKeyError\u001b[0m                                  Traceback (most recent call last)",
      "\u001b[0;32m~/opt/anaconda3/lib/python3.7/site-packages/pandas/core/indexes/base.py\u001b[0m in \u001b[0;36mget_loc\u001b[0;34m(self, key, method, tolerance)\u001b[0m\n\u001b[1;32m   2645\u001b[0m             \u001b[0;32mtry\u001b[0m\u001b[0;34m:\u001b[0m\u001b[0;34m\u001b[0m\u001b[0;34m\u001b[0m\u001b[0m\n\u001b[0;32m-> 2646\u001b[0;31m                 \u001b[0;32mreturn\u001b[0m \u001b[0mself\u001b[0m\u001b[0;34m.\u001b[0m\u001b[0m_engine\u001b[0m\u001b[0;34m.\u001b[0m\u001b[0mget_loc\u001b[0m\u001b[0;34m(\u001b[0m\u001b[0mkey\u001b[0m\u001b[0;34m)\u001b[0m\u001b[0;34m\u001b[0m\u001b[0;34m\u001b[0m\u001b[0m\n\u001b[0m\u001b[1;32m   2647\u001b[0m             \u001b[0;32mexcept\u001b[0m \u001b[0mKeyError\u001b[0m\u001b[0;34m:\u001b[0m\u001b[0;34m\u001b[0m\u001b[0;34m\u001b[0m\u001b[0m\n",
      "\u001b[0;32mpandas/_libs/index.pyx\u001b[0m in \u001b[0;36mpandas._libs.index.IndexEngine.get_loc\u001b[0;34m()\u001b[0m\n",
      "\u001b[0;32mpandas/_libs/index.pyx\u001b[0m in \u001b[0;36mpandas._libs.index.IndexEngine.get_loc\u001b[0;34m()\u001b[0m\n",
      "\u001b[0;32mpandas/_libs/hashtable_class_helper.pxi\u001b[0m in \u001b[0;36mpandas._libs.hashtable.PyObjectHashTable.get_item\u001b[0;34m()\u001b[0m\n",
      "\u001b[0;32mpandas/_libs/hashtable_class_helper.pxi\u001b[0m in \u001b[0;36mpandas._libs.hashtable.PyObjectHashTable.get_item\u001b[0;34m()\u001b[0m\n",
      "\u001b[0;31mKeyError\u001b[0m: 'Temperature'",
      "\nDuring handling of the above exception, another exception occurred:\n",
      "\u001b[0;31mKeyError\u001b[0m                                  Traceback (most recent call last)",
      "\u001b[0;32m<ipython-input-67-2552bdab646d>\u001b[0m in \u001b[0;36m<module>\u001b[0;34m\u001b[0m\n\u001b[1;32m      1\u001b[0m \u001b[0mx_values\u001b[0m \u001b[0;34m=\u001b[0m \u001b[0msouth_hemi\u001b[0m\u001b[0;34m[\u001b[0m\u001b[0;34m'Latitude'\u001b[0m\u001b[0;34m]\u001b[0m\u001b[0;34m\u001b[0m\u001b[0;34m\u001b[0m\u001b[0m\n\u001b[0;32m----> 2\u001b[0;31m \u001b[0my_values\u001b[0m \u001b[0;34m=\u001b[0m \u001b[0msouth_hemi\u001b[0m\u001b[0;34m[\u001b[0m\u001b[0;34m'Temperature'\u001b[0m\u001b[0;34m]\u001b[0m\u001b[0;34m\u001b[0m\u001b[0;34m\u001b[0m\u001b[0m\n\u001b[0m\u001b[1;32m      3\u001b[0m \u001b[0;34m\u001b[0m\u001b[0m\n\u001b[1;32m      4\u001b[0m \u001b[0;34m(\u001b[0m\u001b[0mslope\u001b[0m\u001b[0;34m,\u001b[0m \u001b[0mintercept\u001b[0m\u001b[0;34m,\u001b[0m \u001b[0mrvalue\u001b[0m\u001b[0;34m,\u001b[0m \u001b[0mpvalue\u001b[0m\u001b[0;34m,\u001b[0m \u001b[0mstderr\u001b[0m\u001b[0;34m)\u001b[0m \u001b[0;34m=\u001b[0m \u001b[0mlinregress\u001b[0m\u001b[0;34m(\u001b[0m\u001b[0mx_values\u001b[0m\u001b[0;34m,\u001b[0m \u001b[0my_values\u001b[0m\u001b[0;34m)\u001b[0m\u001b[0;34m\u001b[0m\u001b[0;34m\u001b[0m\u001b[0m\n\u001b[1;32m      5\u001b[0m \u001b[0mregress_values\u001b[0m \u001b[0;34m=\u001b[0m \u001b[0mx_values\u001b[0m \u001b[0;34m*\u001b[0m \u001b[0mslope\u001b[0m \u001b[0;34m+\u001b[0m \u001b[0mintercept\u001b[0m\u001b[0;34m\u001b[0m\u001b[0;34m\u001b[0m\u001b[0m\n",
      "\u001b[0;32m~/opt/anaconda3/lib/python3.7/site-packages/pandas/core/frame.py\u001b[0m in \u001b[0;36m__getitem__\u001b[0;34m(self, key)\u001b[0m\n\u001b[1;32m   2798\u001b[0m             \u001b[0;32mif\u001b[0m \u001b[0mself\u001b[0m\u001b[0;34m.\u001b[0m\u001b[0mcolumns\u001b[0m\u001b[0;34m.\u001b[0m\u001b[0mnlevels\u001b[0m \u001b[0;34m>\u001b[0m \u001b[0;36m1\u001b[0m\u001b[0;34m:\u001b[0m\u001b[0;34m\u001b[0m\u001b[0;34m\u001b[0m\u001b[0m\n\u001b[1;32m   2799\u001b[0m                 \u001b[0;32mreturn\u001b[0m \u001b[0mself\u001b[0m\u001b[0;34m.\u001b[0m\u001b[0m_getitem_multilevel\u001b[0m\u001b[0;34m(\u001b[0m\u001b[0mkey\u001b[0m\u001b[0;34m)\u001b[0m\u001b[0;34m\u001b[0m\u001b[0;34m\u001b[0m\u001b[0m\n\u001b[0;32m-> 2800\u001b[0;31m             \u001b[0mindexer\u001b[0m \u001b[0;34m=\u001b[0m \u001b[0mself\u001b[0m\u001b[0;34m.\u001b[0m\u001b[0mcolumns\u001b[0m\u001b[0;34m.\u001b[0m\u001b[0mget_loc\u001b[0m\u001b[0;34m(\u001b[0m\u001b[0mkey\u001b[0m\u001b[0;34m)\u001b[0m\u001b[0;34m\u001b[0m\u001b[0;34m\u001b[0m\u001b[0m\n\u001b[0m\u001b[1;32m   2801\u001b[0m             \u001b[0;32mif\u001b[0m \u001b[0mis_integer\u001b[0m\u001b[0;34m(\u001b[0m\u001b[0mindexer\u001b[0m\u001b[0;34m)\u001b[0m\u001b[0;34m:\u001b[0m\u001b[0;34m\u001b[0m\u001b[0;34m\u001b[0m\u001b[0m\n\u001b[1;32m   2802\u001b[0m                 \u001b[0mindexer\u001b[0m \u001b[0;34m=\u001b[0m \u001b[0;34m[\u001b[0m\u001b[0mindexer\u001b[0m\u001b[0;34m]\u001b[0m\u001b[0;34m\u001b[0m\u001b[0;34m\u001b[0m\u001b[0m\n",
      "\u001b[0;32m~/opt/anaconda3/lib/python3.7/site-packages/pandas/core/indexes/base.py\u001b[0m in \u001b[0;36mget_loc\u001b[0;34m(self, key, method, tolerance)\u001b[0m\n\u001b[1;32m   2646\u001b[0m                 \u001b[0;32mreturn\u001b[0m \u001b[0mself\u001b[0m\u001b[0;34m.\u001b[0m\u001b[0m_engine\u001b[0m\u001b[0;34m.\u001b[0m\u001b[0mget_loc\u001b[0m\u001b[0;34m(\u001b[0m\u001b[0mkey\u001b[0m\u001b[0;34m)\u001b[0m\u001b[0;34m\u001b[0m\u001b[0;34m\u001b[0m\u001b[0m\n\u001b[1;32m   2647\u001b[0m             \u001b[0;32mexcept\u001b[0m \u001b[0mKeyError\u001b[0m\u001b[0;34m:\u001b[0m\u001b[0;34m\u001b[0m\u001b[0;34m\u001b[0m\u001b[0m\n\u001b[0;32m-> 2648\u001b[0;31m                 \u001b[0;32mreturn\u001b[0m \u001b[0mself\u001b[0m\u001b[0;34m.\u001b[0m\u001b[0m_engine\u001b[0m\u001b[0;34m.\u001b[0m\u001b[0mget_loc\u001b[0m\u001b[0;34m(\u001b[0m\u001b[0mself\u001b[0m\u001b[0;34m.\u001b[0m\u001b[0m_maybe_cast_indexer\u001b[0m\u001b[0;34m(\u001b[0m\u001b[0mkey\u001b[0m\u001b[0;34m)\u001b[0m\u001b[0;34m)\u001b[0m\u001b[0;34m\u001b[0m\u001b[0;34m\u001b[0m\u001b[0m\n\u001b[0m\u001b[1;32m   2649\u001b[0m         \u001b[0mindexer\u001b[0m \u001b[0;34m=\u001b[0m \u001b[0mself\u001b[0m\u001b[0;34m.\u001b[0m\u001b[0mget_indexer\u001b[0m\u001b[0;34m(\u001b[0m\u001b[0;34m[\u001b[0m\u001b[0mkey\u001b[0m\u001b[0;34m]\u001b[0m\u001b[0;34m,\u001b[0m \u001b[0mmethod\u001b[0m\u001b[0;34m=\u001b[0m\u001b[0mmethod\u001b[0m\u001b[0;34m,\u001b[0m \u001b[0mtolerance\u001b[0m\u001b[0;34m=\u001b[0m\u001b[0mtolerance\u001b[0m\u001b[0;34m)\u001b[0m\u001b[0;34m\u001b[0m\u001b[0;34m\u001b[0m\u001b[0m\n\u001b[1;32m   2650\u001b[0m         \u001b[0;32mif\u001b[0m \u001b[0mindexer\u001b[0m\u001b[0;34m.\u001b[0m\u001b[0mndim\u001b[0m \u001b[0;34m>\u001b[0m \u001b[0;36m1\u001b[0m \u001b[0;32mor\u001b[0m \u001b[0mindexer\u001b[0m\u001b[0;34m.\u001b[0m\u001b[0msize\u001b[0m \u001b[0;34m>\u001b[0m \u001b[0;36m1\u001b[0m\u001b[0;34m:\u001b[0m\u001b[0;34m\u001b[0m\u001b[0;34m\u001b[0m\u001b[0m\n",
      "\u001b[0;32mpandas/_libs/index.pyx\u001b[0m in \u001b[0;36mpandas._libs.index.IndexEngine.get_loc\u001b[0;34m()\u001b[0m\n",
      "\u001b[0;32mpandas/_libs/index.pyx\u001b[0m in \u001b[0;36mpandas._libs.index.IndexEngine.get_loc\u001b[0;34m()\u001b[0m\n",
      "\u001b[0;32mpandas/_libs/hashtable_class_helper.pxi\u001b[0m in \u001b[0;36mpandas._libs.hashtable.PyObjectHashTable.get_item\u001b[0;34m()\u001b[0m\n",
      "\u001b[0;32mpandas/_libs/hashtable_class_helper.pxi\u001b[0m in \u001b[0;36mpandas._libs.hashtable.PyObjectHashTable.get_item\u001b[0;34m()\u001b[0m\n",
      "\u001b[0;31mKeyError\u001b[0m: 'Temperature'"
     ]
    }
   ],
   "source": [
    "x_values = south_hemi['Latitude']\n",
    "y_values = south_hemi['Temperature']\n",
    "\n",
    "(slope, intercept, rvalue, pvalue, stderr) = linregress(x_values, y_values)\n",
    "regress_values = x_values * slope + intercept\n",
    "line_eq = \"y = \" + str(round(slope,2)) + \"x + \" + str(round(intercept,2))\n",
    "\n",
    "plt.scatter(x_values,y_values)\n",
    "plt.plot(x_values,regress_values,\"r-\")\n",
    "plt.annotate(line_eq,(6,10),fontsize=15,color=\"red\")\n",
    "plt.xlabel('Latitude')\n",
    "plt.ylabel('Max Temp')\n",
    "plt.title(f\"Southern Hemisphere: Latitude vs Max Temp on {runDate}\")\n",
    "plt.show()"
   ]
  },
  {
   "cell_type": "markdown",
   "metadata": {},
   "source": [
    "####  Northern Hemisphere - Humidity (%) vs. Latitude Linear Regression"
   ]
  },
  {
   "cell_type": "code",
   "execution_count": 69,
   "metadata": {},
   "outputs": [
    {
     "data": {
      "image/png": "[encoded data removed]",
      "text/plain": [
       "<Figure size 432x288 with 1 Axes>"
      ]
     },
     "metadata": {
      "needs_background": "light"
     },
     "output_type": "display_data"
    }
   ],
   "source": [
    "x_values = north_hemi['Latitude']\n",
    "y_values = north_hemi['Humidity']\n",
    "\n",
    "(slope, intercept, rvalue, pvalue, stderr) = linregress(x_values, y_values)\n",
    "regress_values = x_values * slope + intercept\n",
    "line_eq = \"y = \" + str(round(slope,2)) + \"x + \" + str(round(intercept,2))\n",
    "\n",
    "plt.scatter(x_values,y_values)\n",
    "plt.plot(x_values,regress_values,\"r-\")\n",
    "plt.annotate(line_eq,(6,10),fontsize=15,color=\"red\")\n",
    "plt.xlabel('Latitude')\n",
    "plt.ylabel('Humidity (%)')\n",
    "plt.title(f\"Northern Hemisphere: Latitude vs Humidity(%) on {runDate}\")\n",
    "plt.show()"
   ]
  },
  {
   "cell_type": "markdown",
   "metadata": {},
   "source": [
    "####  Southern Hemisphere - Humidity (%) vs. Latitude Linear Regression"
   ]
  },
  {
   "cell_type": "code",
   "execution_count": 66,
   "metadata": {},
   "outputs": [
    {
     "data": {
      "image/png": "[encoded data removed]",
      "text/plain": [
       "<Figure size 432x288 with 1 Axes>"
      ]
     },
     "metadata": {
      "needs_background": "light"
     },
     "output_type": "display_data"
    }
   ],
   "source": [
    "x_values = south_hemi['Latitude']\n",
    "y_values = south_hemi['Humidity']\n",
    "\n",
    "(slope, intercept, rvalue, pvalue, stderr) = linregress(x_values, y_values)\n",
    "regress_values = x_values * slope + intercept\n",
    "line_eq = \"y = \" + str(round(slope,2)) + \"x + \" + str(round(intercept,2))\n",
    "\n",
    "plt.scatter(x_values,y_values)\n",
    "plt.plot(x_values,regress_values,\"r-\")\n",
    "plt.annotate(line_eq,(6,10),fontsize=15,color=\"red\")\n",
    "plt.xlabel('Latitude')\n",
    "plt.ylabel('Humidity (%)')\n",
    "plt.title(f\"Southern Hemisphere: Latitude vs Humidity(%) on {runDate}\")\n",
    "plt.show()"
   ]
  },
  {
   "cell_type": "markdown",
   "metadata": {},
   "source": [
    "####  Northern Hemisphere - Cloudiness (%) vs. Latitude Linear Regression"
   ]
  },
  {
   "cell_type": "code",
   "execution_count": 70,
   "metadata": {},
   "outputs": [
    {
     "data": {
      "image/png": "[encoded data removed]",
      "text/plain": [
       "<Figure size 432x288 with 1 Axes>"
      ]
     },
     "metadata": {
      "needs_background": "light"
     },
     "output_type": "display_data"
    }
   ],
   "source": [
    "x_values = north_hemi['Latitude']\n",
    "y_values = north_hemi['Cloudiness']\n",
    "\n",
    "(slope, intercept, rvalue, pvalue, stderr) = linregress(x_values, y_values)\n",
    "regress_values = x_values * slope + intercept\n",
    "line_eq = \"y = \" + str(round(slope,2)) + \"x + \" + str(round(intercept,2))\n",
    "\n",
    "plt.scatter(x_values,y_values)\n",
    "plt.plot(x_values,regress_values,\"r-\")\n",
    "plt.annotate(line_eq,(6,10),fontsize=15,color=\"red\")\n",
    "plt.xlabel('Latitude')\n",
    "plt.ylabel('Cloudiness (%)')\n",
    "plt.title(f\"Northern Hemisphere: Latitude vs Cloudiness(%) on {runDate}\")\n",
    "plt.show()"
   ]
  },
  {
   "cell_type": "markdown",
   "metadata": {},
   "source": [
    "####  Southern Hemisphere - Cloudiness (%) vs. Latitude Linear Regression"
   ]
  },
  {
   "cell_type": "code",
   "execution_count": 71,
   "metadata": {},
   "outputs": [
    {
     "data": {
      "image/png": "[encoded data removed]",
      "text/plain": [
       "<Figure size 432x288 with 1 Axes>"
      ]
     },
     "metadata": {
      "needs_background": "light"
     },
     "output_type": "display_data"
    }
   ],
   "source": [
    "x_values = south_hemi['Latitude']\n",
    "y_values = south_hemi['Cloudiness']\n",
    "\n",
    "(slope, intercept, rvalue, pvalue, stderr) = linregress(x_values, y_values)\n",
    "regress_values = x_values * slope + intercept\n",
    "line_eq = \"y = \" + str(round(slope,2)) + \"x + \" + str(round(intercept,2))\n",
    "\n",
    "plt.scatter(x_values,y_values)\n",
    "plt.plot(x_values,regress_values,\"r-\")\n",
    "plt.annotate(line_eq,(6,10),fontsize=15,color=\"red\")\n",
    "plt.xlabel('Latitude')\n",
    "plt.ylabel('Cloudiness (%)')\n",
    "plt.title(f\"Southern Hemisphere: Latitude vs Cloudiness(%) on {runDate}\")\n",
    "plt.show()"
   ]
  },
  {
   "cell_type": "markdown",
   "metadata": {},
   "source": [
    "####  Northern Hemisphere - Wind Speed (mph) vs. Latitude Linear Regression"
   ]
  },
  {
   "cell_type": "code",
   "execution_count": 72,
   "metadata": {},
   "outputs": [
    {
     "data": {
      "image/png": "[encoded data removed]",
      "text/plain": [
       "<Figure size 432x288 with 1 Axes>"
      ]
     },
     "metadata": {
      "needs_background": "light"
     },
     "output_type": "display_data"
    }
   ],
   "source": [
    "x_values = north_hemi['Latitude']\n",
    "y_values = north_hemi['Wind Speed']\n",
    "\n",
    "(slope, intercept, rvalue, pvalue, stderr) = linregress(x_values, y_values)\n",
    "regress_values = x_values * slope + intercept\n",
    "line_eq = \"y = \" + str(round(slope,2)) + \"x + \" + str(round(intercept,2))\n",
    "\n",
    "plt.scatter(x_values,y_values)\n",
    "plt.plot(x_values,regress_values,\"r-\")\n",
    "plt.annotate(line_eq,(6,10),fontsize=15,color=\"red\")\n",
    "plt.xlabel('Latitude')\n",
    "plt.ylabel('Wind Speed (mph)')\n",
    "plt.title(f\"Northern Hemisphere: Latitude vs Wind Speed(mph) on {runDate}\")\n",
    "plt.show()"
   ]
  },
  {
   "cell_type": "markdown",
   "metadata": {},
   "source": [
    "####  Southern Hemisphere - Wind Speed (mph) vs. Latitude Linear Regression"
   ]
  },
  {
   "cell_type": "code",
   "execution_count": 73,
   "metadata": {},
   "outputs": [
    {
     "data": {
      "image/png": "[encoded data removed]",
      "text/plain": [
       "<Figure size 432x288 with 1 Axes>"
      ]
     },
     "metadata": {
      "needs_background": "light"
     },
     "output_type": "display_data"
    }
   ],
   "source": [
    "x_values = south_hemi['Latitude']\n",
    "y_values = south_hemi['Wind Speed']\n",
    "\n",
    "(slope, intercept, rvalue, pvalue, stderr) = linregress(x_values, y_values)\n",
    "regress_values = x_values * slope + intercept\n",
    "line_eq = \"y = \" + str(round(slope,2)) + \"x + \" + str(round(intercept,2))\n",
    "\n",
    "plt.scatter(x_values,y_values)\n",
    "plt.plot(x_values,regress_values,\"r-\")\n",
    "plt.annotate(line_eq,(6,10),fontsize=15,color=\"red\")\n",
    "plt.xlabel('Latitude')\n",
    "plt.ylabel('Wind Speed (mph)')\n",
    "plt.title(f\"Southern Hemisphere: Latitude vs Wind Speed(mph) on {runDate}\")\n",
    "plt.show()"
   ]
  },
  {
   "cell_type": "code",
   "execution_count": null,
   "metadata": {},
   "outputs": [],
   "source": []
  }
 ],
 "metadata": {
  "anaconda-cloud": {},
  "kernel_info": {
   "name": "python3"
  },
  "kernelspec": {
   "display_name": "Python 3",
   "language": "python",
   "name": "python3"
  },
  "language_info": {
   "codemirror_mode": {
    "name": "ipython",
    "version": 3
   },
   "file_extension": ".py",
   "mimetype": "text/x-python",
   "name": "python",
   "nbconvert_exporter": "python",
   "pygments_lexer": "ipython3",
   "version": "3.7.6"
  },
  "latex_envs": {
   "LaTeX_envs_menu_present": true,
   "autoclose": false,
   "autocomplete": true,
   "bibliofile": "biblio.bib",
   "cite_by": "apalike",
   "current_citInitial": 1,
   "eqLabelWithNumbers": true,
   "eqNumInitial": 1,
   "hotkeys": {
    "equation": "Ctrl-E",
    "itemize": "Ctrl-I"
   },
   "labels_anchors": false,
   "latex_user_defs": false,
   "report_style_numbering": false,
   "user_envs_cfg": false
  },
  "nteract": {
   "version": "0.12.3"
  }
 },
 "nbformat": 4,
 "nbformat_minor": 2
}
